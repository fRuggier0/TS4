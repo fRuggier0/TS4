{
 "cells": [
  {
   "cell_type": "markdown",
   "id": "1756d6fd-a168-4adb-8245-c7dcc93f4175",
   "metadata": {},
   "source": [
    "# Tarea semanal 4\n",
    "\n",
    "#### Franco Ruggiero"
   ]
  },
  {
   "cell_type": "markdown",
   "id": "537716c8-2a54-4ffc-a23c-29d333271254",
   "metadata": {},
   "source": [
    "- Diseñar un filtro pasabajos Chebyshev para obtener una atenuación de 48 dB para frecuencias mayores a 900 Hz, con una atenuación máxima de 0.4 dB desde continua hasta 300 Hz. ( Ancho de Banda reducido para canal Sub Lows )\n",
    " \n",
    "| ⍺Max [dB] | ⍺mín [dB] | fp [Hz] | fs [Hz] |\n",
    "|--|--|--|--|\n",
    "| 0.4 | 48 | 300 | 900 |\n",
    "\n",
    "\n",
    "\n",
    "\n",
    "\n"
   ]
  },
  {
   "cell_type": "markdown",
   "id": "2bad3c23-85f8-4cd7-acdf-722fa285d689",
   "metadata": {},
   "source": [
    "1) Determinar el orden del filtro y el parámetro ɛ.\n"
   ]
  },
  {
   "cell_type": "markdown",
   "id": "8ce2df1f-5289-45f1-b554-b8260a912e33",
   "metadata": {},
   "source": [
    "##### *_Calculo epsilon:_*  <center><img src=\"TS4_1.jpg\" style=\"width:600px\"> <center>"
   ]
  },
  {
   "cell_type": "code",
   "execution_count": 62,
   "id": "076bf4b2-95ed-478c-bdc6-7ee531c60224",
   "metadata": {},
   "outputs": [
    {
     "name": "stdout",
     "output_type": "stream",
     "text": [
      "eps =  0.3106093948083108\n",
      "eeps =  0.09647819614318509\n"
     ]
    }
   ],
   "source": [
    "import numpy as np\n",
    "\n",
    "alpha_max = 0.4\n",
    "ws = 3\n",
    "\n",
    "eeps = 10**(alpha_max/10)-1  # eeps = eps al cuadrado\n",
    "eps = np.sqrt(eeps)\n",
    "print('eps = ', eps )   \n",
    "print('eeps = ', eeps)\n"
   ]
  },
  {
   "cell_type": "markdown",
   "id": "ab5233ca-6502-4903-8576-789793924295",
   "metadata": {},
   "source": [
    "\n",
    "\n",
    "##### *_Iterando, obtengo el orden del filtro:_*"
   ]
  },
  {
   "cell_type": "code",
   "execution_count": 6,
   "id": "287e65b0-8601-4b69-80eb-a3ea5e05a927",
   "metadata": {},
   "outputs": [
    {
     "name": "stdout",
     "output_type": "stream",
     "text": [
      "n = 2    ---    alpha_min_cheby 14.606303\n",
      "n = 3    ---    alpha_min_cheby 29.761586\n",
      "n = 4    ---    alpha_min_cheby 45.067943\n",
      "n = 5    ---    alpha_min_cheby 60.378833\n"
     ]
    }
   ],
   "source": [
    "for n in range(2,6):\n",
    "    alpha_min_c = 10 * np.log10(1 + eeps * np.cosh(n * np.arccosh(ws))**2)\n",
    "    print('n = {:d}    ---    alpha_min_cheby {:f}'. format(n, alpha_min_c))\n",
    "\n",
    "n = 5"
   ]
  },
  {
   "cell_type": "markdown",
   "id": "351f7db9-722b-4847-bc9a-50ab59bf35c1",
   "metadata": {},
   "source": [
    "\n",
    "\n",
    "#### *_Por lo tanto el orden sera n = 5_*"
   ]
  },
  {
   "cell_type": "markdown",
   "id": "3f6a83c8-f109-4ddd-a94e-620f2bdb1dd9",
   "metadata": {},
   "source": [
    "2. Obtener la expresion completa de la Transferencia NORMALIZADA de T(s).\n"
   ]
  },
  {
   "cell_type": "markdown",
   "id": "e23864d8-8382-48dd-ac89-734e66204174",
   "metadata": {},
   "source": [
    "> <center><img src=\"H_cheby_planteo.jpg\" style=\"width:600px\"> <center>"
   ]
  },
  {
   "cell_type": "code",
   "execution_count": 9,
   "id": "aa0913f9-dfee-43ad-8b48-e391d1ec75f9",
   "metadata": {},
   "outputs": [
    {
     "data": {
      "text/latex": [
       "$\\displaystyle 16 w^{5} - 20 w^{3} + 5 w$"
      ],
      "text/plain": [
       "16*w**5 - 20*w**3 + 5*w"
      ]
     },
     "metadata": {},
     "output_type": "display_data"
    }
   ],
   "source": [
    "from pytc2.general import Chebyshev_polynomials, s, w, print_subtitle\n",
    "import sympy as sp\n",
    "\n",
    "chebn_expr = Chebyshev_polynomials(n)\n",
    "\n",
    "display(sp.expand(chebn_expr))"
   ]
  },
  {
   "cell_type": "code",
   "execution_count": 34,
   "id": "22c6636e-f458-47a2-b03e-a06d6a65a014",
   "metadata": {},
   "outputs": [
    {
     "data": {
      "text/latex": [
       "$\\displaystyle - \\frac{0.0404884228370383}{s^{10} + \\frac{5 s^{8}}{2} + \\frac{35 s^{6}}{16} + \\frac{25 s^{4}}{32} + \\frac{25 s^{2}}{256} - 0.0404884228370383}$"
      ],
      "text/plain": [
       "-0.0404884228370383/(s**10 + 5*s**8/2 + 35*s**6/16 + 25*s**4/32 + 25*s**2/256 - 0.0404884228370383)"
      ]
     },
     "metadata": {},
     "output_type": "display_data"
    }
   ],
   "source": [
    "# obtengo T_ch(s) = T(s)*T(-s) \n",
    "\n",
    "# Tch_jw = (1/eeps) / (1/eeps + chebn_expr**2)\n",
    "Tch_jw = -(1/(eeps*256)) / (-(1/eeps + chebn_expr**2)/256)\n",
    "j = sp.I\n",
    "\n",
    "Tch_s = Tch_jw.subs(w, s/j)\n",
    "\n",
    "display(sp.expand(Tch_s))"
   ]
  },
  {
   "cell_type": "markdown",
   "id": "435f90ac-b218-4c01-9706-bf742148494d",
   "metadata": {},
   "source": [
    "> <center><img src=\"T_cheby_planteo2.jpg\" style=\"width:600px\"> <center>"
   ]
  },
  {
   "cell_type": "markdown",
   "id": "3c617413-88b3-47d5-be92-6d4e34a5ea32",
   "metadata": {},
   "source": [
    "##### *Separo en numerador y denominador*"
   ]
  },
  {
   "cell_type": "code",
   "execution_count": 98,
   "id": "39e4cf29-aad1-47c0-b700-58c6f5a0370c",
   "metadata": {},
   "outputs": [
    {
     "data": {
      "text/latex": [
       "$\\displaystyle \\frac{-0.04049 }{s^10 + s^8 \\,\\, 2.5 + s^6 \\,\\, 2.188 + s^4 \\,\\, 0.7812 + s^2 \\,\\, 0.09766 + -0.04049 }$"
      ],
      "text/plain": [
       "<IPython.core.display.Math object>"
      ]
     },
     "metadata": {},
     "output_type": "display_data"
    }
   ],
   "source": [
    "from pytc2.sistemas_lineales import analyze_sys, pretty_print_lti, tf2sos_analog, pretty_print_SOS\n",
    "from pytc2.general import print_latex, print_subtitle\n",
    "import scipy.signal as sig\n",
    "\n",
    "num_Tch_s = np.array([(-1)/(eeps*256)])\n",
    "den_Tch_s = np.array([ 1 , 0 , 5/2 , 0 , 35/16 , 0 , 25/32 , 0 , 25/256 , 0 , -1/(eeps*256) ]) \n",
    "\n",
    "Taux = sig.TransferFunction(num_Tch_s , den_Tch_s)\n",
    "pretty_print_lti(Taux)"
   ]
  },
  {
   "cell_type": "code",
   "execution_count": 99,
   "id": "82eef147-8b64-4244-8787-7f68ef5df34d",
   "metadata": {},
   "outputs": [
    {
     "name": "stdout",
     "output_type": "stream",
     "text": [
      "[ 0.11932228+1.01949544j  0.11932228-1.01949544j -0.11932228+1.01949544j\n",
      " -0.11932228-1.01949544j  0.31238979+0.63008283j  0.31238979-0.63008283j\n",
      " -0.31238979+0.63008283j -0.31238979-0.63008283j -0.38613502+0.j\n",
      "  0.38613502+0.j        ]\n"
     ]
    }
   ],
   "source": [
    "# Obtengo las raices\n",
    "\n",
    "roots_den_Tch_s = np.roots(den_Tch_s)\n",
    "print(roots_den_Tch_s)"
   ]
  },
  {
   "cell_type": "code",
   "execution_count": 100,
   "id": "907df163-fd99-41d0-b5ec-a01921e13af3",
   "metadata": {},
   "outputs": [
    {
     "name": "stdout",
     "output_type": "stream",
     "text": [
      "[-0.11932228+1.01949544j -0.11932228-1.01949544j -0.31238979+0.63008283j\n",
      " -0.31238979-0.63008283j -0.38613502+0.j        ]\n"
     ]
    }
   ],
   "source": [
    "# obtengo las raices de T(s) filtrando las de T(-s)\n",
    "\n",
    "roots_den_T_s = roots_den_Tch_s[np.real(roots_den_Tch_s) < 0]\n",
    "print(roots_den_T_s)\n"
   ]
  },
  {
   "cell_type": "code",
   "execution_count": 103,
   "id": "2b875a64-e0bd-4eeb-a7ba-6c9710314392",
   "metadata": {},
   "outputs": [
    {
     "data": {
      "text/latex": [
       "$\\displaystyle   \\frac{0.3861 }{s + 0.3861 } . \\frac{0.4946 }{s^2 + s \\,\\, 0.6248 + 0.4946 } . \\frac{1.054 }{s^2 + s \\,\\, 0.2386 + 1.054 }$"
      ],
      "text/plain": [
       "<IPython.core.display.Math object>"
      ]
     },
     "metadata": {},
     "output_type": "display_data"
    },
    {
     "name": "stdout",
     "output_type": "stream",
     "text": [
      " \n"
     ]
    },
    {
     "data": {
      "text/latex": [
       "$\\displaystyle   \\frac{0.3861 }{s + 0.3861 } . \\frac{0.4946 }{s^2 + s \\frac{0.7033}{1.126} + 0.7033^2} . \\frac{1.054 }{s^2 + s \\frac{1.026}{4.301} + 1.026^2}$"
      ],
      "text/plain": [
       "<IPython.core.display.Math object>"
      ]
     },
     "metadata": {},
     "output_type": "display_data"
    }
   ],
   "source": [
    "# verificacion con cheblap\n",
    "\n",
    "z,p,k = sig.cheb1ap(n, alpha_max)\n",
    "num_cheb, den_cheb = sig.zpk2tf(z,p,k)\n",
    "\n",
    "sos_cheb = tf2sos_analog(num_cheb, den_cheb)\n",
    "\n",
    "pretty_print_SOS(sos_cheb)\n",
    "print(' ')\n",
    "pretty_print_SOS(sos_cheb, mode='omegayq')"
   ]
  },
  {
   "cell_type": "markdown",
   "id": "e36d827e-cf43-4fe3-b1f7-b9b2041146ab",
   "metadata": {},
   "source": [
    "> #### Transferencia y diagrama de polos y ceros\n",
    ">\n",
    "> <center><img src=\"Transferencia_PyZ.jpg\" style=\"width:600px\"> <center>"
   ]
  },
  {
   "cell_type": "markdown",
   "id": "50ee7c28-abea-4c6a-94be-4718c8c98057",
   "metadata": {},
   "source": [
    "3. Graficar a mano alzada en forma cualitativa la respuesta de modulo y fase. "
   ]
  },
  {
   "cell_type": "markdown",
   "id": "3128fa8c-52b6-4752-8969-dc39abd0ccd7",
   "metadata": {},
   "source": [
    "> <center><img src=\"Grafico_manual_ModuloyFase.jpg\" style=\"width:600px\"> <center>"
   ]
  },
  {
   "cell_type": "code",
   "execution_count": 122,
   "id": "6fb89310-9045-4da1-9bdf-7fcbd7ef4488",
   "metadata": {},
   "outputs": [
    {
     "data": {
      "text/plain": [
       "[[1,\n",
       "  array([<Axes: title={'center': 'Magnitude response'}, ylabel='Magnitude [dB]'>,\n",
       "         <Axes: title={'center': 'Phase response'}, xlabel='Angular frequency [rad/sec]', ylabel='Phase [rad]'>],\n",
       "        dtype=object)],\n",
       " [2, <Axes: xlabel='$\\\\sigma$', ylabel='j$\\\\omega$'>],\n",
       " [3, ()],\n",
       " [4,\n",
       "  <Axes: title={'center': 'Group delay'}, xlabel='Angular frequency [rad/sec]', ylabel='Group Delay [sec]'>]]"
      ]
     },
     "execution_count": 122,
     "metadata": {},
     "output_type": "execute_result"
    }
   ],
   "source": [
    "# verifico\n",
    "\n",
    "# %matplotlib qt\n",
    "from pytc2.sistemas_lineales import analyze_sys, bodePlot, pzmap\n",
    "\n",
    "all_sys = []\n",
    "\n",
    "all_sys.append(sig.TransferFunction(num_cheb, den_cheb))\n",
    "\n",
    "analyze_sys( all_sys )\n"
   ]
  },
  {
   "cell_type": "markdown",
   "id": "0fbe4105-c904-4dba-a4da-68937ec69e0e",
   "metadata": {},
   "source": [
    "4. Sintetizar el circuito NORMALIZADO utilizando estructuras Kerwin–Huelsman–Newcomb (KHN, también conocido como Variable de Estado ) saliendo desde la salida V3 como indica el siguiente circuito de referencia:\n",
    "\n",
    "<center> <img src=\"image_KHN.png\" style=\"width:600px; height:300px\"> <center>\n"
   ]
  },
  {
   "cell_type": "markdown",
   "id": "45991506-bdb0-42d9-ba3d-4083eb4b405e",
   "metadata": {},
   "source": [
    "> <center> <img src=\"4_1.jpg\" style=\"width:600px\"> <center>\n",
    "> <center> <img src=\"4_2.jpg\" style=\"width:600px\"> <center>\n",
    "> <center> <img src=\"4_3.jpg\" style=\"width:600px\"> <center>"
   ]
  },
  {
   "cell_type": "code",
   "execution_count": null,
   "id": "b16ed21f-0a50-4a61-9d3b-d69f0f38f278",
   "metadata": {},
   "outputs": [],
   "source": []
  }
 ],
 "metadata": {
  "kernelspec": {
   "display_name": "Python 3 (ipykernel)",
   "language": "python",
   "name": "python3"
  },
  "language_info": {
   "codemirror_mode": {
    "name": "ipython",
    "version": 3
   },
   "file_extension": ".py",
   "mimetype": "text/x-python",
   "name": "python",
   "nbconvert_exporter": "python",
   "pygments_lexer": "ipython3",
   "version": "3.10.12"
  }
 },
 "nbformat": 4,
 "nbformat_minor": 5
}
